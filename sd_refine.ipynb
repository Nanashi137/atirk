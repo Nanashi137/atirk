{
 "cells": [
  {
   "cell_type": "code",
   "execution_count": null,
   "metadata": {},
   "outputs": [],
   "source": [
    "import torch \n",
    "from diffusers import DPMSolverMultistepScheduler, StableDiffusionInpaintPipeline\n",
    "from PIL import Image\n",
    "from torch import autocast\n",
    "device = \"cuda\" if torch.cuda.is_available() else \"cpu\"\n",
    "import numpy as np "
   ]
  },
  {
   "cell_type": "code",
   "execution_count": 2,
   "metadata": {},
   "outputs": [],
   "source": [
    "model_path = \"RealVis\"\n",
    "\n",
    "num_inference_steps = 20\n",
    "\n",
    "guidance_scale = 10\n",
    "\n",
    "strength = 1\n",
    "\n",
    "clip_slip = 1\n",
    "\n",
    "padding_mask_crop = 7\n",
    "\n",
    "generator = torch.Generator(\"cuda\").manual_seed(3119)\n",
    "\n",
    "# width = 512 \n",
    "# height = 512 \n",
    "\n",
    "prompt = \"remove text, preserve background, highres, quality\" \n",
    "\n",
    "negative_prompt = \"deformed, weird, bad resolution, bad depiction, blurry, not relevant\"\n"
   ]
  },
  {
   "cell_type": "code",
   "execution_count": null,
   "metadata": {},
   "outputs": [],
   "source": [
    "scheduler = DPMSolverMultistepScheduler.from_pretrained(model_path, subfolder=\"scheduler\", use_karras_sigmas=True)\n",
    "\n",
    "pipeline = StableDiffusionInpaintPipeline.from_pretrained(\n",
    "    pretrained_model_name_or_path = model_path,\n",
    "    torch_dtype = torch.float16,\n",
    "    variant = \"fp16\",\n",
    "    safety_checker=None,\n",
    "    scheduler=scheduler,\n",
    ")\n",
    "pipeline.enable_model_cpu_offload()"
   ]
  },
  {
   "cell_type": "code",
   "execution_count": 5,
   "metadata": {},
   "outputs": [],
   "source": [
    "image_name = \"1003001137771826\"\n",
    "image_path = f\"./test_image/{image_name}.png\"\n",
    "mask_path  = f\"./test_image/{image_name}_mask.png\"\n",
    "\n",
    "img  = Image.open(image_path).convert(\"RGB\")\n",
    "mask = Image.open(mask_path).convert(\"L\")\n",
    "\n",
    "\n",
    "orig_width, orig_height = img.size\n",
    "\n",
    "# img = img.resize((width, height))\n",
    "# mask = mask.resize((width, height))\n"
   ]
  },
  {
   "cell_type": "code",
   "execution_count": null,
   "metadata": {},
   "outputs": [],
   "source": [
    "with autocast(\"cuda\"):\n",
    "    result = pipeline(prompt=prompt,\n",
    "                      image=img, \n",
    "                      mask_image=mask,\n",
    "                      num_inference_steps=num_inference_steps, \n",
    "                      strength=strength, \n",
    "                      guidance_scale=guidance_scale,\n",
    "                      generator=generator,\n",
    "                      width=orig_width,\n",
    "                      height=orig_height,\n",
    "                      clip_skip=clip_slip,\n",
    "                      padding_mask_crop=padding_mask_crop,).images[0]"
   ]
  },
  {
   "cell_type": "code",
   "execution_count": 7,
   "metadata": {},
   "outputs": [],
   "source": [
    "final = Image.composite(result, img, mask)\n",
    "final.save(f\"./test_image/{image_name}_inpainted.png\")"
   ]
  }
 ],
 "metadata": {
  "kernelspec": {
   "display_name": "Python 3",
   "language": "python",
   "name": "python3"
  },
  "language_info": {
   "codemirror_mode": {
    "name": "ipython",
    "version": 3
   },
   "file_extension": ".py",
   "mimetype": "text/x-python",
   "name": "python",
   "nbconvert_exporter": "python",
   "pygments_lexer": "ipython3",
   "version": "3.9.19"
  }
 },
 "nbformat": 4,
 "nbformat_minor": 2
}
